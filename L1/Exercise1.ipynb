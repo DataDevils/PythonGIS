{
 "cells": [
  {
   "cell_type": "markdown",
   "metadata": {},
   "source": [
    "## Exercise 1. Shapely and Geometric objects\n",
    "After completing the lesson [here](https://automating-gis-processes.github.io/site/notebooks/L1/geometric-objects.html), you should be familiar with how to create `Points`, `Lines`, and `Polygons` using the Shapely package. \n",
    "\n",
    "Here we will use these concepts to compute the distance between Durham and Chapel Hill as well as the area of \"the Research Triangle\". To do this we need coordinate for each city. However, these coordinates will not be familiar Latitude/Longitude coordinates (which are in degrees), but rather in Universal Transverse Mercator units, which are in meters. (We'll discuss later what all this means...) \n",
    "\n",
    "Below are the coordinates for each city: \n",
    "* [Durham](https://www.latlong.net/place/durham-nc-usa-3468.html) (689420,3985329)\n",
    "* [Chapel Hill](https://www.latlong.net/place/chapel-hill-nc-usa-3466.html) (675424,3976067)\n",
    "* [Raleigh](https://www.latlong.net/place/raleigh-nc-usa-7275.html) (712904,3962967)\n",
    "\n",
    "In the code cells below, replace `♦` with the correct code so that it executes correctly."
   ]
  },
  {
   "cell_type": "code",
   "execution_count": 2,
   "metadata": {},
   "outputs": [],
   "source": [
    "#Import the Point, LineString, and Polygon objects\n",
    "from shapely.geometry import ♦, ♦, ♦"
   ]
  },
  {
   "cell_type": "code",
   "execution_count": 3,
   "metadata": {},
   "outputs": [],
   "source": [
    "#Create a Point using the coordinates for Durham\n",
    "Durham = Point(689420, 3985329)"
   ]
  },
  {
   "cell_type": "code",
   "execution_count": 4,
   "metadata": {},
   "outputs": [],
   "source": [
    "#Repeat for Chapel Hill and Raleigh\n",
    "ChapelHill = ♦\n",
    "Raleigh = ♦"
   ]
  },
  {
   "cell_type": "code",
   "execution_count": 5,
   "metadata": {},
   "outputs": [],
   "source": [
    "#Create a linestring starting at Durham and Ending at Chapel Hill\n",
    "d_ch = LineString((♦,♦))"
   ]
  },
  {
   "cell_type": "code",
   "execution_count": 6,
   "metadata": {},
   "outputs": [
    {
     "data": {
      "text/plain": [
       "16783.106387078646"
      ]
     },
     "execution_count": 6,
     "metadata": {},
     "output_type": "execute_result"
    }
   ],
   "source": [
    "#What is the distance between Durham and Chapel Hill?\n",
    "d_ch.♦"
   ]
  },
  {
   "cell_type": "code",
   "execution_count": 9,
   "metadata": {},
   "outputs": [
    {
     "data": {
      "text/plain": [
       "15644.617862396524"
      ]
     },
     "execution_count": 9,
     "metadata": {},
     "output_type": "execute_result"
    }
   ],
   "source": [
    "#How much closer is Durham to Chapel Hill than it is to Raleigh?\n",
    "# HINT: you'll have to create a line string between Durham and Raleigh\n",
    "♦"
   ]
  },
  {
   "cell_type": "markdown",
   "metadata": {},
   "source": [
    "Hint for below: https://automating-gis-processes.github.io/site/notebooks/L1/geometric-objects.html#Polygon"
   ]
  },
  {
   "cell_type": "code",
   "execution_count": null,
   "metadata": {},
   "outputs": [],
   "source": [
    "#Create a polygon using the three city locations at its vertices\n",
    "theTriangle = ♦"
   ]
  },
  {
   "cell_type": "code",
   "execution_count": 16,
   "metadata": {},
   "outputs": [
    {
     "data": {
      "text/plain": [
       "265243680.0"
      ]
     },
     "execution_count": 16,
     "metadata": {},
     "output_type": "execute_result"
    }
   ],
   "source": [
    "#What is the area of this polygon\n",
    "theTriangle.♦"
   ]
  }
 ],
 "metadata": {
  "kernelspec": {
   "display_name": "Python 3",
   "language": "python",
   "name": "python3"
  },
  "language_info": {
   "codemirror_mode": {
    "name": "ipython",
    "version": 3
   },
   "file_extension": ".py",
   "mimetype": "text/x-python",
   "name": "python",
   "nbconvert_exporter": "python",
   "pygments_lexer": "ipython3",
   "version": "3.7.3"
  }
 },
 "nbformat": 4,
 "nbformat_minor": 2
}

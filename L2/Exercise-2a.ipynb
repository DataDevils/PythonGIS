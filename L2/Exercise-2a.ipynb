{
 "cells": [
  {
   "cell_type": "markdown",
   "metadata": {},
   "source": [
    "## Exercise 2a. Managing spatial data with Geopandas & Projections\n",
    "After completing the lessons [here](https://automating-gis-processes.github.io/site/notebooks/L1/geometric-objects.html), you should be famliliar with how to read data (e.g. Shapefiles, GeoJSON) into a GeoPandas geodataframe and then employ that geodata in various analyses. \n",
    "\n",
    "In this exercise, we will import a shapefile of interstate exits in North Carolina. "
   ]
  }
 ],
 "metadata": {
  "kernelspec": {
   "display_name": "Python 3",
   "language": "python",
   "name": "python3"
  },
  "language_info": {
   "codemirror_mode": {
    "name": "ipython",
    "version": 3
   },
   "file_extension": ".py",
   "mimetype": "text/x-python",
   "name": "python",
   "nbconvert_exporter": "python",
   "pygments_lexer": "ipython3",
   "version": "3.7.6"
  }
 },
 "nbformat": 4,
 "nbformat_minor": 4
}
